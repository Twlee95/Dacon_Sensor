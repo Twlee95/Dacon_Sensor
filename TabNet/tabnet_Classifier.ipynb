{
 "cells": [
  {
   "cell_type": "markdown",
   "id": "27834d2e",
   "metadata": {},
   "source": [
    "# tabnet Classifier"
   ]
  },
  {
   "cell_type": "code",
   "execution_count": 1,
   "id": "28a8c340",
   "metadata": {},
   "outputs": [
    {
     "name": "stderr",
     "output_type": "stream",
     "text": [
      "/userHome/taewon/miniconda3/envs/lgai/lib/python3.8/site-packages/tqdm/auto.py:22: TqdmWarning: IProgress not found. Please update jupyter and ipywidgets. See https://ipywidgets.readthedocs.io/en/stable/user_install.html\n",
      "  from .autonotebook import tqdm as notebook_tqdm\n"
     ]
    }
   ],
   "source": [
    "import time, os\n",
    "import pandas as pd\n",
    "import numpy as np\n",
    "import matplotlib.pyplot as plt\n",
    "\n",
    "from sklearn import metrics\n",
    "from sklearn.metrics import log_loss\n",
    "from sklearn.preprocessing import MinMaxScaler, StandardScaler\n",
    "from sklearn.model_selection import StratifiedKFold, cross_val_score\n",
    "from sklearn.model_selection import train_test_split\n",
    "\n",
    "from datetime import datetime\n",
    "import tqdm\n",
    "\n",
    "import os\n",
    "import numpy as np\n",
    "import pandas as pd\n",
    "from sklearn.metrics import roc_auc_score\n",
    "from sklearn.preprocessing import LabelEncoder\n",
    "from matplotlib import pyplot as plt\n",
    "\n",
    "import torch\n",
    "import torch.nn as nn\n",
    "from pytorch_tabnet.tab_model import TabNetClassifier\n",
    "from pytorch_tabnet.metrics import Metric\n",
    "from sklearn.metrics import f1_score"
   ]
  },
  {
   "cell_type": "markdown",
   "id": "a336c61e",
   "metadata": {},
   "source": [
    "## Data pre-processing"
   ]
  },
  {
   "cell_type": "code",
   "execution_count": 2,
   "id": "e18a857e",
   "metadata": {},
   "outputs": [
    {
     "data": {
      "text/html": [
       "<div>\n",
       "<style scoped>\n",
       "    .dataframe tbody tr th:only-of-type {\n",
       "        vertical-align: middle;\n",
       "    }\n",
       "\n",
       "    .dataframe tbody tr th {\n",
       "        vertical-align: top;\n",
       "    }\n",
       "\n",
       "    .dataframe thead th {\n",
       "        text-align: right;\n",
       "    }\n",
       "</style>\n",
       "<table border=\"1\" class=\"dataframe\">\n",
       "  <thead>\n",
       "    <tr style=\"text-align: right;\">\n",
       "      <th></th>\n",
       "      <th>id</th>\n",
       "      <th>epitope_seq</th>\n",
       "      <th>antigen_seq</th>\n",
       "      <th>antigen_code</th>\n",
       "      <th>start_position</th>\n",
       "      <th>end_position</th>\n",
       "      <th>number_of_tested</th>\n",
       "      <th>number_of_responses</th>\n",
       "      <th>assay_method_technique</th>\n",
       "      <th>assay_group</th>\n",
       "      <th>disease_type</th>\n",
       "      <th>disease_state</th>\n",
       "      <th>reference_date</th>\n",
       "      <th>reference_journal</th>\n",
       "      <th>reference_title</th>\n",
       "      <th>reference_IRI</th>\n",
       "      <th>qualitative_label</th>\n",
       "      <th>label</th>\n",
       "    </tr>\n",
       "  </thead>\n",
       "  <tbody>\n",
       "    <tr>\n",
       "      <th>0</th>\n",
       "      <td>200001</td>\n",
       "      <td>KGILSN</td>\n",
       "      <td>AFKGILSNADIKAAEAACFKEGSFDEDGFYAKVGLDAFSADELKKL...</td>\n",
       "      <td>P02622.1</td>\n",
       "      <td>3.0</td>\n",
       "      <td>8.0</td>\n",
       "      <td>NaN</td>\n",
       "      <td>NaN</td>\n",
       "      <td>antigen inhibition</td>\n",
       "      <td>qualitative binding</td>\n",
       "      <td>Occurrence of allergy</td>\n",
       "      <td>allergic disease</td>\n",
       "      <td>1976</td>\n",
       "      <td>Int Arch Allergy Appl Immunol</td>\n",
       "      <td>The allergenic structure of allergen M from co...</td>\n",
       "      <td>http://www.iedb.org/reference/1005599</td>\n",
       "      <td>Positive</td>\n",
       "      <td>1</td>\n",
       "    </tr>\n",
       "    <tr>\n",
       "      <th>1</th>\n",
       "      <td>200002</td>\n",
       "      <td>SNADIK</td>\n",
       "      <td>AFKGILSNADIKAAEAACFKEGSFDEDGFYAKVGLDAFSADELKKL...</td>\n",
       "      <td>P02622.1</td>\n",
       "      <td>7.0</td>\n",
       "      <td>12.0</td>\n",
       "      <td>NaN</td>\n",
       "      <td>NaN</td>\n",
       "      <td>antigen inhibition</td>\n",
       "      <td>qualitative binding</td>\n",
       "      <td>Occurrence of allergy</td>\n",
       "      <td>allergic disease</td>\n",
       "      <td>1976</td>\n",
       "      <td>Int Arch Allergy Appl Immunol</td>\n",
       "      <td>The allergenic structure of allergen M from co...</td>\n",
       "      <td>http://www.iedb.org/reference/1005599</td>\n",
       "      <td>Positive</td>\n",
       "      <td>1</td>\n",
       "    </tr>\n",
       "    <tr>\n",
       "      <th>2</th>\n",
       "      <td>200003</td>\n",
       "      <td>EGSFDEDGFYAKVGLDAFSADELK</td>\n",
       "      <td>AFKGILSNADIKAAEAACFKEGSFDEDGFYAKVGLDAFSADELKKL...</td>\n",
       "      <td>P02622.1</td>\n",
       "      <td>21.0</td>\n",
       "      <td>44.0</td>\n",
       "      <td>NaN</td>\n",
       "      <td>NaN</td>\n",
       "      <td>antigen inhibition</td>\n",
       "      <td>qualitative binding</td>\n",
       "      <td>Occurrence of allergy</td>\n",
       "      <td>allergic disease</td>\n",
       "      <td>1976</td>\n",
       "      <td>Int Arch Allergy Appl Immunol</td>\n",
       "      <td>The allergenic structure of allergen M from co...</td>\n",
       "      <td>http://www.iedb.org/reference/1005599</td>\n",
       "      <td>Positive</td>\n",
       "      <td>1</td>\n",
       "    </tr>\n",
       "    <tr>\n",
       "      <th>3</th>\n",
       "      <td>200004</td>\n",
       "      <td>SFDEDGFY</td>\n",
       "      <td>AFKGILSNADIKAAEAACFKEGSFDEDGFYAKVGLDAFSADELKKL...</td>\n",
       "      <td>P02622.1</td>\n",
       "      <td>23.0</td>\n",
       "      <td>30.0</td>\n",
       "      <td>NaN</td>\n",
       "      <td>NaN</td>\n",
       "      <td>antigen inhibition</td>\n",
       "      <td>qualitative binding</td>\n",
       "      <td>Occurrence of allergy</td>\n",
       "      <td>allergic disease</td>\n",
       "      <td>1976</td>\n",
       "      <td>Int Arch Allergy Appl Immunol</td>\n",
       "      <td>The allergenic structure of allergen M from co...</td>\n",
       "      <td>http://www.iedb.org/reference/1005599</td>\n",
       "      <td>Positive</td>\n",
       "      <td>1</td>\n",
       "    </tr>\n",
       "    <tr>\n",
       "      <th>4</th>\n",
       "      <td>200005</td>\n",
       "      <td>DEDGFY</td>\n",
       "      <td>AFKGILSNADIKAAEAACFKEGSFDEDGFYAKVGLDAFSADELKKL...</td>\n",
       "      <td>P02622.1</td>\n",
       "      <td>25.0</td>\n",
       "      <td>30.0</td>\n",
       "      <td>NaN</td>\n",
       "      <td>NaN</td>\n",
       "      <td>antigen inhibition</td>\n",
       "      <td>qualitative binding</td>\n",
       "      <td>Occurrence of allergy</td>\n",
       "      <td>allergic disease</td>\n",
       "      <td>1976</td>\n",
       "      <td>Int Arch Allergy Appl Immunol</td>\n",
       "      <td>The allergenic structure of allergen M from co...</td>\n",
       "      <td>http://www.iedb.org/reference/1005599</td>\n",
       "      <td>Positive</td>\n",
       "      <td>1</td>\n",
       "    </tr>\n",
       "  </tbody>\n",
       "</table>\n",
       "</div>"
      ],
      "text/plain": [
       "       id               epitope_seq  \\\n",
       "0  200001                    KGILSN   \n",
       "1  200002                    SNADIK   \n",
       "2  200003  EGSFDEDGFYAKVGLDAFSADELK   \n",
       "3  200004                  SFDEDGFY   \n",
       "4  200005                    DEDGFY   \n",
       "\n",
       "                                         antigen_seq antigen_code  \\\n",
       "0  AFKGILSNADIKAAEAACFKEGSFDEDGFYAKVGLDAFSADELKKL...     P02622.1   \n",
       "1  AFKGILSNADIKAAEAACFKEGSFDEDGFYAKVGLDAFSADELKKL...     P02622.1   \n",
       "2  AFKGILSNADIKAAEAACFKEGSFDEDGFYAKVGLDAFSADELKKL...     P02622.1   \n",
       "3  AFKGILSNADIKAAEAACFKEGSFDEDGFYAKVGLDAFSADELKKL...     P02622.1   \n",
       "4  AFKGILSNADIKAAEAACFKEGSFDEDGFYAKVGLDAFSADELKKL...     P02622.1   \n",
       "\n",
       "   start_position  end_position  number_of_tested  number_of_responses  \\\n",
       "0             3.0           8.0               NaN                  NaN   \n",
       "1             7.0          12.0               NaN                  NaN   \n",
       "2            21.0          44.0               NaN                  NaN   \n",
       "3            23.0          30.0               NaN                  NaN   \n",
       "4            25.0          30.0               NaN                  NaN   \n",
       "\n",
       "  assay_method_technique          assay_group           disease_type  \\\n",
       "0     antigen inhibition  qualitative binding  Occurrence of allergy   \n",
       "1     antigen inhibition  qualitative binding  Occurrence of allergy   \n",
       "2     antigen inhibition  qualitative binding  Occurrence of allergy   \n",
       "3     antigen inhibition  qualitative binding  Occurrence of allergy   \n",
       "4     antigen inhibition  qualitative binding  Occurrence of allergy   \n",
       "\n",
       "      disease_state  reference_date              reference_journal  \\\n",
       "0  allergic disease            1976  Int Arch Allergy Appl Immunol   \n",
       "1  allergic disease            1976  Int Arch Allergy Appl Immunol   \n",
       "2  allergic disease            1976  Int Arch Allergy Appl Immunol   \n",
       "3  allergic disease            1976  Int Arch Allergy Appl Immunol   \n",
       "4  allergic disease            1976  Int Arch Allergy Appl Immunol   \n",
       "\n",
       "                                     reference_title  \\\n",
       "0  The allergenic structure of allergen M from co...   \n",
       "1  The allergenic structure of allergen M from co...   \n",
       "2  The allergenic structure of allergen M from co...   \n",
       "3  The allergenic structure of allergen M from co...   \n",
       "4  The allergenic structure of allergen M from co...   \n",
       "\n",
       "                           reference_IRI qualitative_label  label  \n",
       "0  http://www.iedb.org/reference/1005599          Positive      1  \n",
       "1  http://www.iedb.org/reference/1005599          Positive      1  \n",
       "2  http://www.iedb.org/reference/1005599          Positive      1  \n",
       "3  http://www.iedb.org/reference/1005599          Positive      1  \n",
       "4  http://www.iedb.org/reference/1005599          Positive      1  "
      ]
     },
     "execution_count": 2,
     "metadata": {},
     "output_type": "execute_result"
    }
   ],
   "source": [
    "# load Data\n",
    "df = pd.read_csv('./open/train.csv')\n",
    "df.head()"
   ]
  },
  {
   "cell_type": "code",
   "execution_count": 3,
   "id": "93948eeb",
   "metadata": {},
   "outputs": [
    {
     "name": "stdout",
     "output_type": "stream",
     "text": [
      "<class 'pandas.core.frame.DataFrame'>\n",
      "RangeIndex: 190811 entries, 0 to 190810\n",
      "Data columns (total 18 columns):\n",
      " #   Column                  Non-Null Count   Dtype  \n",
      "---  ------                  --------------   -----  \n",
      " 0   id                      190811 non-null  int64  \n",
      " 1   epitope_seq             190811 non-null  object \n",
      " 2   antigen_seq             190811 non-null  object \n",
      " 3   antigen_code            190811 non-null  object \n",
      " 4   start_position          190811 non-null  float64\n",
      " 5   end_position            190811 non-null  float64\n",
      " 6   number_of_tested        39198 non-null   float64\n",
      " 7   number_of_responses     38353 non-null   float64\n",
      " 8   assay_method_technique  190811 non-null  object \n",
      " 9   assay_group             190811 non-null  object \n",
      " 10  disease_type            190811 non-null  object \n",
      " 11  disease_state           180793 non-null  object \n",
      " 12  reference_date          190811 non-null  int64  \n",
      " 13  reference_journal       190811 non-null  object \n",
      " 14  reference_title         190811 non-null  object \n",
      " 15  reference_IRI           190811 non-null  object \n",
      " 16  qualitative_label       190811 non-null  object \n",
      " 17  label                   190811 non-null  int64  \n",
      "dtypes: float64(4), int64(3), object(11)\n",
      "memory usage: 26.2+ MB\n"
     ]
    }
   ],
   "source": [
    "df.info()"
   ]
  },
  {
   "cell_type": "code",
   "execution_count": 4,
   "id": "61789706",
   "metadata": {},
   "outputs": [],
   "source": [
    "l_enc = LabelEncoder()"
   ]
  },
  {
   "cell_type": "code",
   "execution_count": 5,
   "id": "dd5e1a7b",
   "metadata": {},
   "outputs": [
    {
     "name": "stdout",
     "output_type": "stream",
     "text": [
      "<class 'pandas.core.frame.DataFrame'>\n",
      "RangeIndex: 190811 entries, 0 to 190810\n",
      "Data columns (total 9 columns):\n",
      " #   Column                  Non-Null Count   Dtype  \n",
      "---  ------                  --------------   -----  \n",
      " 0   start_position          190811 non-null  float64\n",
      " 1   antigen_code            190811 non-null  object \n",
      " 2   end_position            190811 non-null  float64\n",
      " 3   number_of_tested        39198 non-null   float64\n",
      " 4   number_of_responses     38353 non-null   float64\n",
      " 5   assay_method_technique  190811 non-null  object \n",
      " 6   disease_type            190811 non-null  object \n",
      " 7   disease_state           190811 non-null  object \n",
      " 8   target                  190811 non-null  int64  \n",
      "dtypes: float64(4), int64(1), object(4)\n",
      "memory usage: 13.1+ MB\n"
     ]
    },
    {
     "name": "stderr",
     "output_type": "stream",
     "text": [
      "/tmp/ipykernel_801426/2917144474.py:2: SettingWithCopyWarning: \n",
      "A value is trying to be set on a copy of a slice from a DataFrame\n",
      "\n",
      "See the caveats in the documentation: https://pandas.pydata.org/pandas-docs/stable/user_guide/indexing.html#returning-a-view-versus-a-copy\n",
      "  df[\"disease_state\"][df[\"disease_state\"].isna()] =\"unknown\"\n"
     ]
    }
   ],
   "source": [
    "# make X data\n",
    "df[\"disease_state\"][df[\"disease_state\"].isna()] =\"unknown\"\n",
    "train = pd.DataFrame({'start_position': df['start_position'],\n",
    "                  'end_position': df['end_position'],\n",
    "                  'number_of_tested': df['number_of_tested'],\n",
    "                  'number_of_responses': df['number_of_responses'],\n",
    "                  'assay_method_technique': df['assay_method_technique'],\n",
    "                  'disease_type': df['disease_type'],\n",
    "                  'disease_state': df['disease_state'],\n",
    "                  'target' : df['label']\n",
    "                 })\n",
    "train.info()"
   ]
  },
  {
   "cell_type": "code",
   "execution_count": 6,
   "id": "acc7fb96",
   "metadata": {},
   "outputs": [
    {
     "name": "stdout",
     "output_type": "stream",
     "text": [
      "antigen_code 4562\n",
      "assay_method_technique 29\n",
      "disease_type 14\n",
      "disease_state 218\n",
      "Set 2\n"
     ]
    }
   ],
   "source": [
    "if \"Set\" not in train.columns:\n",
    "    train[\"Set\"] = np.random.choice([\"train\", \"valid\"], p =[.8, .2,], size=(train.shape[0],))\n",
    "\n",
    "train_indices = train[train.Set==\"train\"].index\n",
    "valid_indices = train[train.Set==\"valid\"].index\n",
    "\n",
    "nunique = train.nunique()\n",
    "types = train.dtypes\n",
    "\n",
    "categorical_columns = []\n",
    "categorical_dims =  {}\n",
    "for col in train.columns:\n",
    "    if types[col] == 'object':\n",
    "        print(col, train[col].nunique())\n",
    "        train[col] = l_enc.fit_transform(train[col].values)\n",
    "        categorical_columns.append(col)\n",
    "        categorical_dims[col] = len(l_enc.classes_)\n",
    "    else:\n",
    "        train.fillna(train.loc[train_indices, col].mean(), inplace=True)\n",
    "\n",
    "\n",
    "# Categorical Embedding을 위해 Categorical 변수의 차원과 idxs를 담음.\n",
    "unused_feat = ['Set']\n",
    "features = [ col for col in train.columns if col not in unused_feat+['target']]  # 7 target\n",
    "cat_idxs = [ i for i, f in enumerate(features) if f in categorical_columns]\n",
    "cat_dims = [ categorical_dims[f] for i, f in enumerate(features) if f in categorical_columns]\n",
    "\n",
    "\n",
    "\n",
    "X_train = train[features].values[train_indices]\n",
    "y_train = train['target'].values[train_indices]\n",
    "\n",
    "X_valid = train[features].values[valid_indices]\n",
    "y_valid = train['target'].values[valid_indices]"
   ]
  },
  {
   "cell_type": "code",
   "execution_count": 7,
   "id": "d2cf9636",
   "metadata": {},
   "outputs": [],
   "source": [
    "#X['disease_state'][X['disease_state'] == 0] =\"unknown\""
   ]
  },
  {
   "cell_type": "code",
   "execution_count": 8,
   "id": "425ba633",
   "metadata": {},
   "outputs": [],
   "source": [
    "#     if X[X.columns[i]].dtype == 'object':\n",
    "#         X[X.columns[i]] = X[X.columns[i]].astype('category')\n",
    "# X.info()"
   ]
  },
  {
   "cell_type": "code",
   "execution_count": 9,
   "id": "3185fe81",
   "metadata": {},
   "outputs": [
    {
     "name": "stdout",
     "output_type": "stream",
     "text": [
      "<class 'pandas.core.series.Series'>\n",
      "RangeIndex: 190811 entries, 0 to 190810\n",
      "Series name: target\n",
      "Non-Null Count   Dtype\n",
      "--------------   -----\n",
      "190811 non-null  int64\n",
      "dtypes: int64(1)\n",
      "memory usage: 1.5 MB\n"
     ]
    }
   ],
   "source": [
    "# make y data\n",
    "y = train[\"target\"]\n",
    "y.info()"
   ]
  },
  {
   "cell_type": "markdown",
   "id": "cef4e33f",
   "metadata": {},
   "source": [
    "## Model train"
   ]
  },
  {
   "cell_type": "code",
   "execution_count": 10,
   "id": "7cb9984f",
   "metadata": {},
   "outputs": [
    {
     "name": "stdout",
     "output_type": "stream",
     "text": [
      "Device used : cuda\n"
     ]
    }
   ],
   "source": [
    "clf = TabNetClassifier(cat_idxs=cat_idxs,  # cat_idxs: List[int] = field(default_factory=list)\n",
    "                       cat_dims=cat_dims,  # cat_dims: List[int] = field(default_factory=list)\n",
    "                       cat_emb_dim=10,     # int = 1\n",
    "                       optimizer_fn=torch.optim.Adam,\n",
    "                       optimizer_params=dict(lr=1e-3),\n",
    "                       scheduler_params={\"step_size\":50,\n",
    "                                         \"gamma\":0.9},\n",
    "                       scheduler_fn=torch.optim.lr_scheduler.StepLR,\n",
    "                       mask_type='sparsemax' # \"sparsemax\", entmax\n",
    "                      )"
   ]
  },
  {
   "cell_type": "code",
   "execution_count": 11,
   "id": "13a6dd4d",
   "metadata": {},
   "outputs": [],
   "source": [
    "class F1_Score(Metric):\n",
    "    def __init__(self):\n",
    "        self._name = \"f1\"\n",
    "        self._maximize = True\n",
    "\n",
    "    def __call__(self, y_true, y_score):\n",
    "        score = f1_score(y_true, (y_score[:, 1]>0.5)*1,average='macro')\n",
    "        return score"
   ]
  },
  {
   "cell_type": "code",
   "execution_count": 12,
   "id": "93769517",
   "metadata": {},
   "outputs": [
    {
     "name": "stderr",
     "output_type": "stream",
     "text": [
      "[W pthreadpool-cpp.cc:90] Warning: Leaking Caffe2 thread-pool after fork. (function pthreadpool)\n",
      "[W pthreadpool-cpp.cc:90] Warning: Leaking Caffe2 thread-pool after fork. (function pthreadpool)\n",
      "[W pthreadpool-cpp.cc:90] Warning: Leaking Caffe2 thread-pool after fork. (function pthreadpool)\n",
      "[W pthreadpool-cpp.cc:90] Warning: Leaking Caffe2 thread-pool after fork. (function pthreadpool)\n"
     ]
    },
    {
     "name": "stdout",
     "output_type": "stream",
     "text": [
      "epoch 0  | loss: 0.77655 | train_f1: 0.6057  | valid_f1: 0.60181 |  0:00:10s\n"
     ]
    },
    {
     "name": "stderr",
     "output_type": "stream",
     "text": [
      "[W pthreadpool-cpp.cc:90] Warning: Leaking Caffe2 thread-pool after fork. (function pthreadpool)\n",
      "[W pthreadpool-cpp.cc:90] Warning: Leaking Caffe2 thread-pool after fork. (function pthreadpool)\n",
      "[W pthreadpool-cpp.cc:90] Warning: Leaking Caffe2 thread-pool after fork. (function pthreadpool)\n",
      "[W pthreadpool-cpp.cc:90] Warning: Leaking Caffe2 thread-pool after fork. (function pthreadpool)\n",
      "[W pthreadpool-cpp.cc:90] Warning: Leaking Caffe2 thread-pool after fork. (function pthreadpool)\n",
      "[W pthreadpool-cpp.cc:90] Warning: Leaking Caffe2 thread-pool after fork. (function pthreadpool)\n"
     ]
    },
    {
     "name": "stdout",
     "output_type": "stream",
     "text": [
      "epoch 1  | loss: 0.49118 | train_f1: 0.65837 | valid_f1: 0.65685 |  0:00:20s\n"
     ]
    },
    {
     "name": "stderr",
     "output_type": "stream",
     "text": [
      "[W pthreadpool-cpp.cc:90] Warning: Leaking Caffe2 thread-pool after fork. (function pthreadpool)\n",
      "[W pthreadpool-cpp.cc:90] Warning: Leaking Caffe2 thread-pool after fork. (function pthreadpool)\n",
      "[W pthreadpool-cpp.cc:90] Warning: Leaking Caffe2 thread-pool after fork. (function pthreadpool)\n",
      "[W pthreadpool-cpp.cc:90] Warning: Leaking Caffe2 thread-pool after fork. (function pthreadpool)\n",
      "[W pthreadpool-cpp.cc:90] Warning: Leaking Caffe2 thread-pool after fork. (function pthreadpool)\n",
      "[W pthreadpool-cpp.cc:90] Warning: Leaking Caffe2 thread-pool after fork. (function pthreadpool)\n"
     ]
    },
    {
     "name": "stdout",
     "output_type": "stream",
     "text": [
      "epoch 2  | loss: 0.45122 | train_f1: 0.67084 | valid_f1: 0.66786 |  0:00:30s\n"
     ]
    },
    {
     "name": "stderr",
     "output_type": "stream",
     "text": [
      "[W pthreadpool-cpp.cc:90] Warning: Leaking Caffe2 thread-pool after fork. (function pthreadpool)\n",
      "[W pthreadpool-cpp.cc:90] Warning: Leaking Caffe2 thread-pool after fork. (function pthreadpool)\n",
      "[W pthreadpool-cpp.cc:90] Warning: Leaking Caffe2 thread-pool after fork. (function pthreadpool)\n",
      "[W pthreadpool-cpp.cc:90] Warning: Leaking Caffe2 thread-pool after fork. (function pthreadpool)\n",
      "[W pthreadpool-cpp.cc:90] Warning: Leaking Caffe2 thread-pool after fork. (function pthreadpool)\n",
      "[W pthreadpool-cpp.cc:90] Warning: Leaking Caffe2 thread-pool after fork. (function pthreadpool)\n"
     ]
    },
    {
     "name": "stdout",
     "output_type": "stream",
     "text": [
      "epoch 3  | loss: 0.42681 | train_f1: 0.67603 | valid_f1: 0.67144 |  0:00:40s\n"
     ]
    },
    {
     "name": "stderr",
     "output_type": "stream",
     "text": [
      "[W pthreadpool-cpp.cc:90] Warning: Leaking Caffe2 thread-pool after fork. (function pthreadpool)\n",
      "[W pthreadpool-cpp.cc:90] Warning: Leaking Caffe2 thread-pool after fork. (function pthreadpool)\n",
      "[W pthreadpool-cpp.cc:90] Warning: Leaking Caffe2 thread-pool after fork. (function pthreadpool)\n",
      "[W pthreadpool-cpp.cc:90] Warning: Leaking Caffe2 thread-pool after fork. (function pthreadpool)\n",
      "[W pthreadpool-cpp.cc:90] Warning: Leaking Caffe2 thread-pool after fork. (function pthreadpool)\n",
      "[W pthreadpool-cpp.cc:90] Warning: Leaking Caffe2 thread-pool after fork. (function pthreadpool)\n"
     ]
    },
    {
     "name": "stdout",
     "output_type": "stream",
     "text": [
      "epoch 4  | loss: 0.40813 | train_f1: 0.67762 | valid_f1: 0.67292 |  0:00:49s\n"
     ]
    },
    {
     "name": "stderr",
     "output_type": "stream",
     "text": [
      "[W pthreadpool-cpp.cc:90] Warning: Leaking Caffe2 thread-pool after fork. (function pthreadpool)\n",
      "[W pthreadpool-cpp.cc:90] Warning: Leaking Caffe2 thread-pool after fork. (function pthreadpool)\n",
      "[W pthreadpool-cpp.cc:90] Warning: Leaking Caffe2 thread-pool after fork. (function pthreadpool)\n",
      "[W pthreadpool-cpp.cc:90] Warning: Leaking Caffe2 thread-pool after fork. (function pthreadpool)\n",
      "[W pthreadpool-cpp.cc:90] Warning: Leaking Caffe2 thread-pool after fork. (function pthreadpool)\n",
      "[W pthreadpool-cpp.cc:90] Warning: Leaking Caffe2 thread-pool after fork. (function pthreadpool)\n"
     ]
    },
    {
     "name": "stdout",
     "output_type": "stream",
     "text": [
      "epoch 5  | loss: 0.39425 | train_f1: 0.67797 | valid_f1: 0.6739  |  0:00:59s\n"
     ]
    },
    {
     "name": "stderr",
     "output_type": "stream",
     "text": [
      "[W pthreadpool-cpp.cc:90] Warning: Leaking Caffe2 thread-pool after fork. (function pthreadpool)\n",
      "[W pthreadpool-cpp.cc:90] Warning: Leaking Caffe2 thread-pool after fork. (function pthreadpool)\n",
      "[W pthreadpool-cpp.cc:90] Warning: Leaking Caffe2 thread-pool after fork. (function pthreadpool)\n",
      "[W pthreadpool-cpp.cc:90] Warning: Leaking Caffe2 thread-pool after fork. (function pthreadpool)\n",
      "[W pthreadpool-cpp.cc:90] Warning: Leaking Caffe2 thread-pool after fork. (function pthreadpool)\n",
      "[W pthreadpool-cpp.cc:90] Warning: Leaking Caffe2 thread-pool after fork. (function pthreadpool)\n"
     ]
    },
    {
     "name": "stdout",
     "output_type": "stream",
     "text": [
      "epoch 6  | loss: 0.37838 | train_f1: 0.67596 | valid_f1: 0.67321 |  0:01:09s\n"
     ]
    },
    {
     "name": "stderr",
     "output_type": "stream",
     "text": [
      "[W pthreadpool-cpp.cc:90] Warning: Leaking Caffe2 thread-pool after fork. (function pthreadpool)\n",
      "[W pthreadpool-cpp.cc:90] Warning: Leaking Caffe2 thread-pool after fork. (function pthreadpool)\n",
      "[W pthreadpool-cpp.cc:90] Warning: Leaking Caffe2 thread-pool after fork. (function pthreadpool)\n",
      "[W pthreadpool-cpp.cc:90] Warning: Leaking Caffe2 thread-pool after fork. (function pthreadpool)\n",
      "[W pthreadpool-cpp.cc:90] Warning: Leaking Caffe2 thread-pool after fork. (function pthreadpool)\n",
      "[W pthreadpool-cpp.cc:90] Warning: Leaking Caffe2 thread-pool after fork. (function pthreadpool)\n",
      "[W pthreadpool-cpp.cc:90] Warning: Leaking Caffe2 thread-pool after fork. (function pthreadpool)\n"
     ]
    },
    {
     "name": "stdout",
     "output_type": "stream",
     "text": [
      "epoch 7  | loss: 0.36821 | train_f1: 0.67761 | valid_f1: 0.6759  |  0:01:19s\n"
     ]
    },
    {
     "name": "stderr",
     "output_type": "stream",
     "text": [
      "[W pthreadpool-cpp.cc:90] Warning: Leaking Caffe2 thread-pool after fork. (function pthreadpool)\n",
      "[W pthreadpool-cpp.cc:90] Warning: Leaking Caffe2 thread-pool after fork. (function pthreadpool)\n",
      "[W pthreadpool-cpp.cc:90] Warning: Leaking Caffe2 thread-pool after fork. (function pthreadpool)\n",
      "[W pthreadpool-cpp.cc:90] Warning: Leaking Caffe2 thread-pool after fork. (function pthreadpool)\n",
      "[W pthreadpool-cpp.cc:90] Warning: Leaking Caffe2 thread-pool after fork. (function pthreadpool)\n",
      "[W pthreadpool-cpp.cc:90] Warning: Leaking Caffe2 thread-pool after fork. (function pthreadpool)\n"
     ]
    },
    {
     "name": "stdout",
     "output_type": "stream",
     "text": [
      "epoch 8  | loss: 0.36129 | train_f1: 0.67287 | valid_f1: 0.67021 |  0:01:29s\n"
     ]
    },
    {
     "name": "stderr",
     "output_type": "stream",
     "text": [
      "[W pthreadpool-cpp.cc:90] Warning: Leaking Caffe2 thread-pool after fork. (function pthreadpool)\n",
      "[W pthreadpool-cpp.cc:90] Warning: Leaking Caffe2 thread-pool after fork. (function pthreadpool)\n",
      "[W pthreadpool-cpp.cc:90] Warning: Leaking Caffe2 thread-pool after fork. (function pthreadpool)\n",
      "[W pthreadpool-cpp.cc:90] Warning: Leaking Caffe2 thread-pool after fork. (function pthreadpool)\n",
      "[W pthreadpool-cpp.cc:90] Warning: Leaking Caffe2 thread-pool after fork. (function pthreadpool)\n",
      "[W pthreadpool-cpp.cc:90] Warning: Leaking Caffe2 thread-pool after fork. (function pthreadpool)\n"
     ]
    },
    {
     "name": "stdout",
     "output_type": "stream",
     "text": [
      "epoch 9  | loss: 0.35568 | train_f1: 0.68138 | valid_f1: 0.67953 |  0:01:38s\n"
     ]
    },
    {
     "name": "stderr",
     "output_type": "stream",
     "text": [
      "[W pthreadpool-cpp.cc:90] Warning: Leaking Caffe2 thread-pool after fork. (function pthreadpool)\n",
      "[W pthreadpool-cpp.cc:90] Warning: Leaking Caffe2 thread-pool after fork. (function pthreadpool)\n",
      "[W pthreadpool-cpp.cc:90] Warning: Leaking Caffe2 thread-pool after fork. (function pthreadpool)\n",
      "[W pthreadpool-cpp.cc:90] Warning: Leaking Caffe2 thread-pool after fork. (function pthreadpool)\n",
      "[W pthreadpool-cpp.cc:90] Warning: Leaking Caffe2 thread-pool after fork. (function pthreadpool)\n",
      "[W pthreadpool-cpp.cc:90] Warning: Leaking Caffe2 thread-pool after fork. (function pthreadpool)\n"
     ]
    },
    {
     "name": "stdout",
     "output_type": "stream",
     "text": [
      "epoch 10 | loss: 0.34637 | train_f1: 0.68543 | valid_f1: 0.68465 |  0:01:48s\n"
     ]
    },
    {
     "name": "stderr",
     "output_type": "stream",
     "text": [
      "[W pthreadpool-cpp.cc:90] Warning: Leaking Caffe2 thread-pool after fork. (function pthreadpool)\n",
      "[W pthreadpool-cpp.cc:90] Warning: Leaking Caffe2 thread-pool after fork. (function pthreadpool)\n",
      "[W pthreadpool-cpp.cc:90] Warning: Leaking Caffe2 thread-pool after fork. (function pthreadpool)\n",
      "[W pthreadpool-cpp.cc:90] Warning: Leaking Caffe2 thread-pool after fork. (function pthreadpool)\n",
      "[W pthreadpool-cpp.cc:90] Warning: Leaking Caffe2 thread-pool after fork. (function pthreadpool)\n",
      "[W pthreadpool-cpp.cc:90] Warning: Leaking Caffe2 thread-pool after fork. (function pthreadpool)\n"
     ]
    },
    {
     "name": "stdout",
     "output_type": "stream",
     "text": [
      "epoch 11 | loss: 0.34078 | train_f1: 0.69254 | valid_f1: 0.69068 |  0:01:58s\n"
     ]
    },
    {
     "name": "stderr",
     "output_type": "stream",
     "text": [
      "[W pthreadpool-cpp.cc:90] Warning: Leaking Caffe2 thread-pool after fork. (function pthreadpool)\n",
      "[W pthreadpool-cpp.cc:90] Warning: Leaking Caffe2 thread-pool after fork. (function pthreadpool)\n"
     ]
    }
   ],
   "source": [
    "max_epochs = 200\n",
    "\n",
    "clf.fit(\n",
    "    X_train=X_train, y_train=y_train,\n",
    "    eval_set=[(X_train, y_train), (X_valid, y_valid)],\n",
    "    eval_name=['train', 'valid'],\n",
    "    eval_metric=['f1'],\n",
    "    max_epochs=max_epochs , patience=20,\n",
    "    batch_size=1024, virtual_batch_size=128,\n",
    "    num_workers=2,\n",
    "    weights=1,\n",
    "    drop_last=False,\n",
    ")"
   ]
  },
  {
   "cell_type": "markdown",
   "id": "cc666086",
   "metadata": {},
   "source": [
    "## Submission"
   ]
  },
  {
   "cell_type": "code",
   "execution_count": null,
   "id": "c23062f3",
   "metadata": {},
   "outputs": [
    {
     "name": "stdout",
     "output_type": "stream",
     "text": [
      "<class 'pandas.core.frame.DataFrame'>\n",
      "RangeIndex: 120944 entries, 0 to 120943\n",
      "Data columns (total 16 columns):\n",
      " #   Column                  Non-Null Count   Dtype  \n",
      "---  ------                  --------------   -----  \n",
      " 0   id                      120944 non-null  int64  \n",
      " 1   epitope_seq             120944 non-null  object \n",
      " 2   antigen_seq             120944 non-null  object \n",
      " 3   antigen_code            120944 non-null  object \n",
      " 4   start_position          120944 non-null  float64\n",
      " 5   end_position            120944 non-null  float64\n",
      " 6   number_of_tested        42688 non-null   float64\n",
      " 7   number_of_responses     42551 non-null   float64\n",
      " 8   assay_method_technique  120944 non-null  object \n",
      " 9   assay_group             120944 non-null  object \n",
      " 10  disease_type            120944 non-null  object \n",
      " 11  disease_state           116281 non-null  object \n",
      " 12  reference_date          120944 non-null  int64  \n",
      " 13  reference_journal       120938 non-null  object \n",
      " 14  reference_title         120944 non-null  object \n",
      " 15  reference_IRI           120944 non-null  object \n",
      "dtypes: float64(4), int64(2), object(10)\n",
      "memory usage: 14.8+ MB\n"
     ]
    }
   ],
   "source": [
    "test_df = pd.read_csv('./open/test.csv')\n",
    "test_df.info()"
   ]
  },
  {
   "cell_type": "code",
   "execution_count": null,
   "id": "a7267d16",
   "metadata": {},
   "outputs": [
    {
     "name": "stdout",
     "output_type": "stream",
     "text": [
      "<class 'pandas.core.frame.DataFrame'>\n",
      "RangeIndex: 120944 entries, 0 to 120943\n",
      "Data columns (total 8 columns):\n",
      " #   Column                  Non-Null Count   Dtype  \n",
      "---  ------                  --------------   -----  \n",
      " 0   start_position          120944 non-null  float64\n",
      " 1   antigen_code            120944 non-null  object \n",
      " 2   end_position            120944 non-null  float64\n",
      " 3   number_of_tested        42688 non-null   float64\n",
      " 4   number_of_responses     42551 non-null   float64\n",
      " 5   assay_method_technique  120944 non-null  object \n",
      " 6   disease_type            120944 non-null  object \n",
      " 7   disease_state           120944 non-null  object \n",
      "dtypes: float64(4), object(4)\n",
      "memory usage: 7.4+ MB\n"
     ]
    },
    {
     "name": "stderr",
     "output_type": "stream",
     "text": [
      "/tmp/ipykernel_737553/2040108111.py:1: SettingWithCopyWarning: \n",
      "A value is trying to be set on a copy of a slice from a DataFrame\n",
      "\n",
      "See the caveats in the documentation: https://pandas.pydata.org/pandas-docs/stable/user_guide/indexing.html#returning-a-view-versus-a-copy\n",
      "  test_df['disease_state'][test_df['disease_state'].isna()] = \"unknown\"\n",
      "/tmp/ipykernel_737553/2040108111.py:2: SettingWithCopyWarning: \n",
      "A value is trying to be set on a copy of a slice from a DataFrame\n",
      "\n",
      "See the caveats in the documentation: https://pandas.pydata.org/pandas-docs/stable/user_guide/indexing.html#returning-a-view-versus-a-copy\n",
      "  test_df['disease_state'][test_df['disease_state']== 0 ] = \"unknown\"\n"
     ]
    }
   ],
   "source": [
    "test_df['disease_state'][test_df['disease_state'].isna()] = \"unknown\"\n",
    "test_df['disease_state'][test_df['disease_state']== 0 ] = \"unknown\"\n",
    "\n",
    "sub_X = pd.DataFrame({'start_position': test_df['start_position'],\n",
    "                  'end_position': test_df['end_position'],\n",
    "                  'number_of_tested': test_df['number_of_tested'],\n",
    "                  'number_of_responses': test_df['number_of_responses'],\n",
    "                  'assay_method_technique': test_df['assay_method_technique'],\n",
    "                  'disease_type': test_df['disease_type'],\n",
    "                  'disease_state': test_df['disease_state'],\n",
    "                 })\n",
    "sub_X.info()"
   ]
  },
  {
   "cell_type": "code",
   "execution_count": null,
   "id": "17b8bfa9",
   "metadata": {},
   "outputs": [
    {
     "name": "stdout",
     "output_type": "stream",
     "text": [
      "antigen_code 2952\n",
      "assay_method_technique 24\n",
      "disease_type 14\n",
      "disease_state 87\n"
     ]
    }
   ],
   "source": [
    "nunique = sub_X.nunique()\n",
    "types = sub_X.dtypes\n",
    "\n",
    "\n",
    "categorical_columns = []\n",
    "categorical_dims =  {}\n",
    "for col in sub_X.columns:\n",
    "    if types[col] == 'object':\n",
    "        print(col, sub_X[col].nunique())\n",
    "        sub_X[col] = l_enc.fit_transform(sub_X[col].values)\n",
    "        categorical_columns.append(col)\n",
    "        categorical_dims[col] = len(l_enc.classes_)\n",
    "    else:\n",
    "        sub_X.fillna(sub_X.loc[:, col].mean(), inplace=True)\n",
    "\n",
    "\n",
    "unused_feat = ['Set']\n",
    "features = [ col for col in sub_X.columns if col not in unused_feat+['target']]  # 7 target\n",
    "cat_idxs = [ i for i, f in enumerate(features) if f in categorical_columns]\n",
    "cat_dims = [ categorical_dims[f] for i, f in enumerate(features) if f in categorical_columns]\n",
    "\n",
    "sub_X = sub_X[features].values"
   ]
  },
  {
   "cell_type": "code",
   "execution_count": null,
   "id": "e782cca3",
   "metadata": {},
   "outputs": [
    {
     "data": {
      "text/plain": [
       "array([[2.548e+03, 2.930e+03, 2.563e+03, ..., 1.700e+01, 2.000e+00,\n",
       "        4.100e+01],\n",
       "       [5.520e+02, 2.862e+03, 5.660e+02, ..., 2.000e+00, 1.000e+01,\n",
       "        1.000e+00],\n",
       "       [1.560e+02, 1.745e+03, 1.670e+02, ..., 1.700e+01, 1.000e+01,\n",
       "        7.100e+01],\n",
       "       ...,\n",
       "       [4.452e+03, 2.141e+03, 4.467e+03, ..., 1.700e+01, 2.000e+00,\n",
       "        4.100e+01],\n",
       "       [2.970e+02, 2.856e+03, 3.110e+02, ..., 2.000e+00, 1.000e+01,\n",
       "        1.000e+00],\n",
       "       [3.830e+02, 8.120e+02, 3.940e+02, ..., 1.700e+01, 2.000e+00,\n",
       "        4.100e+01]])"
      ]
     },
     "execution_count": 57,
     "metadata": {},
     "output_type": "execute_result"
    }
   ],
   "source": [
    "sub_X"
   ]
  },
  {
   "cell_type": "code",
   "execution_count": null,
   "id": "50bef8da",
   "metadata": {},
   "outputs": [],
   "source": [
    "preds = clf.predict_proba(sub_X)\n"
   ]
  },
  {
   "cell_type": "code",
   "execution_count": null,
   "id": "fa8fe754",
   "metadata": {},
   "outputs": [
    {
     "data": {
      "text/plain": [
       "120944"
      ]
     },
     "execution_count": 48,
     "metadata": {},
     "output_type": "execute_result"
    }
   ],
   "source": [
    "id_list = [i for i in range(1, len(preds)+1)]\n",
    "len(id_list)"
   ]
  },
  {
   "cell_type": "code",
   "execution_count": null,
   "id": "adba86ae",
   "metadata": {},
   "outputs": [
    {
     "data": {
      "text/plain": [
       "array([[1.9476056e-01, 8.0523950e-01],\n",
       "       [1.0281158e-10, 1.0000000e+00],\n",
       "       [2.0609664e-30, 1.0000000e+00],\n",
       "       ...,\n",
       "       [9.9999976e-01, 1.8575156e-07],\n",
       "       [2.8117551e-02, 9.7188246e-01],\n",
       "       [2.5911896e-02, 9.7408807e-01]], dtype=float32)"
      ]
     },
     "execution_count": 56,
     "metadata": {},
     "output_type": "execute_result"
    }
   ],
   "source": [
    "preds"
   ]
  },
  {
   "cell_type": "code",
   "execution_count": null,
   "id": "93d1cbc6",
   "metadata": {},
   "outputs": [],
   "source": [
    "last_preds = (preds[:, 1]>0.5)*1\n"
   ]
  },
  {
   "cell_type": "code",
   "execution_count": null,
   "id": "6b400212",
   "metadata": {},
   "outputs": [],
   "source": [
    "answer = pd.DataFrame({'id': id_list,\n",
    "                      'label': last_preds\n",
    "                     })\n",
    "# answer.to_csv('/userHome/taekyung/song/Daycon/submission.csv', index = None) #csv파일로 생성\n",
    "answer.to_csv('./submit2.csv', index = None) #csv파일로 생성"
   ]
  }
 ],
 "metadata": {
  "kernelspec": {
   "display_name": "Python 3.9.12 ('taewon')",
   "language": "python",
   "name": "python3"
  },
  "language_info": {
   "codemirror_mode": {
    "name": "ipython",
    "version": 3
   },
   "file_extension": ".py",
   "mimetype": "text/x-python",
   "name": "python",
   "nbconvert_exporter": "python",
   "pygments_lexer": "ipython3",
   "version": "3.9.12"
  },
  "vscode": {
   "interpreter": {
    "hash": "013403e7ebf8f35ee0411721c7e4b108aa3c3f8cb903b89610d110413a68ec3f"
   }
  }
 },
 "nbformat": 4,
 "nbformat_minor": 5
}
