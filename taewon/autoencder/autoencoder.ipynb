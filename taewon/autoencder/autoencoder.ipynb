{
 "cells": [
  {
   "cell_type": "code",
   "execution_count": 13,
   "metadata": {},
   "outputs": [],
   "source": [
    "import torch\n",
    "import torch.nn as nn\n",
    "import pandas as pd\n",
    "from torch.utils.data import DataLoader\n",
    "\n",
    "import numpy as np\n",
    "from sklearn.model_selection import KFold\n",
    "\n",
    "import argparse\n",
    "import torch.optim as optim\n",
    "from sklearn.metrics import mean_squared_error\n",
    "import matplotlib.pyplot as plt\n",
    "import torch.nn.functional as F\n",
    "from sklearn.preprocessing import MinMaxScaler\n",
    "import math"
   ]
  },
  {
   "cell_type": "markdown",
   "metadata": {},
   "source": [
    "## Preprocessing"
   ]
  },
  {
   "cell_type": "code",
   "execution_count": 2,
   "metadata": {},
   "outputs": [],
   "source": [
    "df = pd.read_csv('train.csv')\n",
    "\n",
    "df = df.drop('X_10', axis=1)\n",
    "df = df.drop('X_11', axis=1)\n",
    "\n",
    "x_df = df.iloc[:,1:55]\n",
    "\n",
    "scaler = MinMaxScaler()\n",
    "\n",
    "x_scale_df = scaler.fit_transform(x_df)\n",
    "input_x = torch.tensor(x_scale_df)"
   ]
  },
  {
   "cell_type": "code",
   "execution_count": 14,
   "metadata": {},
   "outputs": [],
   "source": [
    "test_df = pd.read_csv('test.csv')\n",
    "\n",
    "test_df = test_df.drop('X_10', axis=1)\n",
    "test_df = test_df.drop('X_11', axis=1)\n",
    "\n",
    "x_test_df = test_df.iloc[:,1:55]\n",
    "\n",
    "x_test_scale_df = scaler.fit_transform(x_test_df)\n",
    "test_input_x = torch.tensor(x_test_scale_df)"
   ]
  },
  {
   "cell_type": "code",
   "execution_count": 3,
   "metadata": {},
   "outputs": [],
   "source": [
    "class autoencoder(nn.Module):\n",
    "    def __init__(self, input_size):\n",
    "        super(autoencoder,self).__init__()\n",
    "        self.input_size = input_size\n",
    "        \n",
    "        self.input_dim = self.input_size[1]\n",
    "        \n",
    "        self.encoder = nn.Sequential(\n",
    "            nn.Linear(self.input_dim,(self.input_dim//4)*3),\n",
    "            nn.SiLU(),\n",
    "            nn.Linear((self.input_dim//4)*3,(self.input_dim//4)*2),\n",
    "            nn.SiLU(),\n",
    "        )\n",
    "        \n",
    "        self.decoder = nn.Sequential(\n",
    "            nn.Linear((self.input_dim//4)*2,(self.input_dim//4)*3),\n",
    "            nn.SiLU(),\n",
    "            nn.Linear((self.input_dim//4)*3,self.input_dim),\n",
    "            nn.SiLU()  \n",
    "        )\n",
    "\n",
    "    def forward(self,x):\n",
    "        enc_output = self.encoder(x)\n",
    "        y_hat = self.decoder(enc_output)\n",
    "        return y_hat\n",
    "\n",
    "    def get_encode(self, x):\n",
    "        enc_output = self.encoder(x)\n",
    "        return enc_output\n",
    "    "
   ]
  },
  {
   "cell_type": "code",
   "execution_count": 4,
   "metadata": {},
   "outputs": [],
   "source": [
    "class tableDataset:\n",
    "    def __init__(self, data):\n",
    "        self.data_ = data\n",
    "\n",
    "    def __len__(self):\n",
    "        return len(self.data_)\n",
    "\n",
    "    def __getitem__(self, idx):\n",
    "        data = self.data_[idx]\n",
    "        X = data\n",
    "        y = data\n",
    "\n",
    "        return X, y  ## 데이터별 리스트\n"
   ]
  },
  {
   "cell_type": "code",
   "execution_count": 5,
   "metadata": {},
   "outputs": [],
   "source": [
    "def train(train_data, Autoencoder, Autoencoder_optimizer, args): ## Data, loss function, argument\n",
    "    trainloader = DataLoader(train_data, batch_size = args.batch_size, shuffle=True, drop_last=True)\n",
    "    Autoencoder.train()\n",
    "\n",
    "    train_loss = 0.0\n",
    "    for i, (x,y) in enumerate(trainloader):\n",
    "\n",
    "        Autoencoder_optimizer.zero_grad()\n",
    "        x = x.float().to(args.device)\n",
    "        y = y.float().to(args.device)\n",
    "\n",
    "        y_hat= Autoencoder(x)\n",
    "\n",
    "        loss = args.loss_fn(y_hat,y)\n",
    "\n",
    "        loss.backward()\n",
    "\n",
    "        Autoencoder_optimizer.step()## parameter 갱신\n",
    "\n",
    "        train_loss += loss.item()\n",
    "\n",
    "    train_loss = train_loss / len(trainloader)\n",
    "    return Autoencoder, train_loss\n",
    "\n",
    "\n",
    "\n",
    "# def test(test_data, Autoencoder, Autoencoder_optimizer, args): ## Data, loss function, argument\n",
    "#     testloader = DataLoader(input_x, batch_size = args.batch_size, shuffle=True, drop_last=True)\n",
    "#     Autoencoder.eval()\n",
    "\n",
    "#     test_loss = 0.0\n",
    "#     with torch.no_grad():\n",
    "#         for i, (x,y) in enumerate(testloader):\n",
    "\n",
    "#             y_hat, bottlenack_vec = Autoencoder(x)\n",
    "\n",
    "#             perc_y_pred = y_hat.cpu().detach().numpy()\n",
    "#             perc_y_true = y.cpu().detach().numpy()\n",
    "#             mse = mean_squared_error(y_hat, y, multioutput='raw_values')[0]\n",
    "#             rmse = math.sqrt(mse)   \n",
    "\n",
    "#             RMSE_metric += rmse\n",
    "#         RMSE_metric = RMSE_metric / len(testloader)\n",
    "    \n",
    "#     return RMSE_metric"
   ]
  },
  {
   "cell_type": "code",
   "execution_count": 6,
   "metadata": {},
   "outputs": [],
   "source": [
    "parser = argparse.ArgumentParser()\n",
    "args = parser.parse_args(\"\")\n",
    "args.device = 'cuda' if torch.cuda.is_available() else 'cpu'\n",
    "\n",
    "args.optim = \"NAdam\"\n",
    "\n",
    "args.batch_size = 128\n",
    "args.lr = 0.0005\n",
    "args.l2 = 0.00001\n",
    "\n",
    "args.epoch = 100\n",
    "\n",
    "args.loss_fn = nn.MSELoss()"
   ]
  },
  {
   "cell_type": "code",
   "execution_count": 7,
   "metadata": {},
   "outputs": [
    {
     "name": "stdout",
     "output_type": "stream",
     "text": [
      "Epoch 0, Loss(train) 0.04678\n",
      "Epoch 1, Loss(train) 0.01408\n",
      "Epoch 2, Loss(train) 0.01202\n",
      "Epoch 3, Loss(train) 0.00882\n",
      "Epoch 4, Loss(train) 0.00750\n",
      "Epoch 5, Loss(train) 0.00699\n",
      "Epoch 6, Loss(train) 0.00641\n",
      "Epoch 7, Loss(train) 0.00602\n",
      "Epoch 8, Loss(train) 0.00562\n",
      "Epoch 9, Loss(train) 0.00523\n",
      "Epoch 10, Loss(train) 0.00465\n",
      "Epoch 11, Loss(train) 0.00399\n",
      "Epoch 12, Loss(train) 0.00357\n",
      "Epoch 13, Loss(train) 0.00335\n",
      "Epoch 14, Loss(train) 0.00321\n",
      "Epoch 15, Loss(train) 0.00312\n",
      "Epoch 16, Loss(train) 0.00303\n",
      "Epoch 17, Loss(train) 0.00295\n",
      "Epoch 18, Loss(train) 0.00288\n",
      "Epoch 19, Loss(train) 0.00282\n",
      "Epoch 20, Loss(train) 0.00276\n",
      "Epoch 21, Loss(train) 0.00271\n",
      "Epoch 22, Loss(train) 0.00264\n",
      "Epoch 23, Loss(train) 0.00259\n",
      "Epoch 24, Loss(train) 0.00253\n",
      "Epoch 25, Loss(train) 0.00248\n",
      "Epoch 26, Loss(train) 0.00241\n",
      "Epoch 27, Loss(train) 0.00232\n",
      "Epoch 28, Loss(train) 0.00220\n",
      "Epoch 29, Loss(train) 0.00209\n",
      "Epoch 30, Loss(train) 0.00202\n",
      "Epoch 31, Loss(train) 0.00197\n",
      "Epoch 32, Loss(train) 0.00195\n",
      "Epoch 33, Loss(train) 0.00194\n",
      "Epoch 34, Loss(train) 0.00193\n",
      "Epoch 35, Loss(train) 0.00192\n",
      "Epoch 36, Loss(train) 0.00191\n",
      "Epoch 37, Loss(train) 0.00190\n",
      "Epoch 38, Loss(train) 0.00190\n",
      "Epoch 39, Loss(train) 0.00189\n",
      "Epoch 40, Loss(train) 0.00188\n",
      "Epoch 41, Loss(train) 0.00187\n",
      "Epoch 42, Loss(train) 0.00186\n",
      "Epoch 43, Loss(train) 0.00185\n",
      "Epoch 44, Loss(train) 0.00184\n",
      "Epoch 45, Loss(train) 0.00182\n",
      "Epoch 46, Loss(train) 0.00179\n",
      "Epoch 47, Loss(train) 0.00176\n",
      "Epoch 48, Loss(train) 0.00173\n",
      "Epoch 49, Loss(train) 0.00171\n",
      "Epoch 50, Loss(train) 0.00168\n",
      "Epoch 51, Loss(train) 0.00167\n",
      "Epoch 52, Loss(train) 0.00166\n",
      "Epoch 53, Loss(train) 0.00165\n",
      "Epoch 54, Loss(train) 0.00164\n",
      "Epoch 55, Loss(train) 0.00164\n",
      "Epoch 56, Loss(train) 0.00163\n",
      "Epoch 57, Loss(train) 0.00163\n",
      "Epoch 58, Loss(train) 0.00162\n",
      "Epoch 59, Loss(train) 0.00162\n",
      "Epoch 60, Loss(train) 0.00162\n",
      "Epoch 61, Loss(train) 0.00161\n",
      "Epoch 62, Loss(train) 0.00161\n",
      "Epoch 63, Loss(train) 0.00161\n",
      "Epoch 64, Loss(train) 0.00160\n",
      "Epoch 65, Loss(train) 0.00160\n",
      "Epoch 66, Loss(train) 0.00160\n",
      "Epoch 67, Loss(train) 0.00159\n",
      "Epoch 68, Loss(train) 0.00158\n",
      "Epoch 69, Loss(train) 0.00157\n",
      "Epoch 70, Loss(train) 0.00156\n",
      "Epoch 71, Loss(train) 0.00155\n",
      "Epoch 72, Loss(train) 0.00153\n",
      "Epoch 73, Loss(train) 0.00152\n",
      "Epoch 74, Loss(train) 0.00151\n",
      "Epoch 75, Loss(train) 0.00150\n",
      "Epoch 76, Loss(train) 0.00148\n",
      "Epoch 77, Loss(train) 0.00147\n",
      "Epoch 78, Loss(train) 0.00145\n",
      "Epoch 79, Loss(train) 0.00143\n",
      "Epoch 80, Loss(train) 0.00139\n",
      "Epoch 81, Loss(train) 0.00134\n",
      "Epoch 82, Loss(train) 0.00131\n",
      "Epoch 83, Loss(train) 0.00129\n",
      "Epoch 84, Loss(train) 0.00128\n",
      "Epoch 85, Loss(train) 0.00127\n",
      "Epoch 86, Loss(train) 0.00127\n",
      "Epoch 87, Loss(train) 0.00126\n",
      "Epoch 88, Loss(train) 0.00126\n",
      "Epoch 89, Loss(train) 0.00126\n",
      "Epoch 90, Loss(train) 0.00126\n",
      "Epoch 91, Loss(train) 0.00126\n",
      "Epoch 92, Loss(train) 0.00126\n",
      "Epoch 93, Loss(train) 0.00125\n",
      "Epoch 94, Loss(train) 0.00125\n",
      "Epoch 95, Loss(train) 0.00125\n",
      "Epoch 96, Loss(train) 0.00125\n",
      "Epoch 97, Loss(train) 0.00125\n",
      "Epoch 98, Loss(train) 0.00125\n",
      "Epoch 99, Loss(train) 0.00125\n"
     ]
    }
   ],
   "source": [
    "input_size = input_x.size()\n",
    "\n",
    "Autoencoder = autoencoder(input_size)\n",
    "Autoencoder.to(args.device)\n",
    "\n",
    "\n",
    "if args.optim == 'SGD':\n",
    "    Autoencoder_optimizer = optim.SGD(Autoencoder.parameters(), lr=args.lr, weight_decay=args.l2)\n",
    "elif args.optim == 'RMSprop':\n",
    "    Autoencoder_optimizer = optim.RMSprop(Autoencoder.parameters(), lr=args.lr, weight_decay=args.l2)\n",
    "elif args.optim == 'Adam':\n",
    "    Autoencoder_optimizer = optim.Adam(Autoencoder.parameters(), lr=args.lr, weight_decay=args.l2)\n",
    "elif args.optim == 'NAdam':\n",
    "    Autoencoder_optimizer = optim.NAdam(Autoencoder.parameters(), lr=args.lr, weight_decay=args.l2)\n",
    "else:\n",
    "    raise ValueError('In-valid optimizer choice')\n",
    "\n",
    "\n",
    "\n",
    "train_data = input_x\n",
    "\n",
    "trainset = tableDataset(train_data)\n",
    "\n",
    "train_losses = []\n",
    "for epoch in range(args.epoch):\n",
    "\n",
    "    Autoencoder,train_loss = train(trainset, Autoencoder, Autoencoder_optimizer, args)\n",
    "\n",
    "    train_losses.append(train_loss)\n",
    "\n",
    "    print('Epoch {}, Loss(train) {:2.5f}'.format(epoch, train_loss))\n",
    "\n",
    "# last model save with state_dict()\n",
    "torch.save(Autoencoder.state_dict(), 'Autoencoder_output' +'.pt')\n"
   ]
  },
  {
   "cell_type": "markdown",
   "metadata": {},
   "source": [
    "## plot"
   ]
  },
  {
   "cell_type": "code",
   "execution_count": 8,
   "metadata": {},
   "outputs": [
    {
     "data": {
      "image/png": "[encoded data removed]",
      "text/plain": [
       "<Figure size 432x288 with 1 Axes>"
      ]
     },
     "metadata": {
      "needs_background": "light"
     },
     "output_type": "display_data"
    }
   ],
   "source": [
    "plt.plot(train_losses)\n",
    "plt.legend(['train_losses'], fontsize=15)\n",
    "plt.xlabel('epoch', fontsize=15)\n",
    "plt.ylabel('loss', fontsize=15)\n",
    "plt.grid()"
   ]
  },
  {
   "cell_type": "markdown",
   "metadata": {},
   "source": [
    "## Inference"
   ]
  },
  {
   "cell_type": "code",
   "execution_count": 16,
   "metadata": {},
   "outputs": [],
   "source": [
    "Autoencoder = autoencoder(input_size)\n",
    "\n",
    "#Autoencoder.to(args.device)\n",
    "\n",
    "Autoencoder.load_state_dict(torch.load('Autoencoder_output' +'.pt'))\n",
    "\n",
    "\n",
    "autoencoder_feature = Autoencoder.get_encode(input_x.float())\n",
    "\n",
    "test_autoencoder_feature = Autoencoder.get_encode(test_input_x.float())\n"
   ]
  },
  {
   "cell_type": "code",
   "execution_count": 11,
   "metadata": {},
   "outputs": [
    {
     "name": "stdout",
     "output_type": "stream",
     "text": [
      "torch.Size([39607, 26])\n"
     ]
    }
   ],
   "source": [
    "print(autoencoder_feature.size())\n",
    "\n",
    "autoencoder_feature.detach().numpy()\n",
    "\n",
    "np.save(\"autoencoder_feature\",autoencoder_feature.detach().numpy())\n",
    "\n",
    "np.save(\"autoencoder_feature_test\",test_autoencoder_feature.detach().numpy())\n"
   ]
  }
 ],
 "metadata": {
  "kernelspec": {
   "display_name": "Python 3.9.12 ('taewon')",
   "language": "python",
   "name": "python3"
  },
  "language_info": {
   "codemirror_mode": {
    "name": "ipython",
    "version": 3
   },
   "file_extension": ".py",
   "mimetype": "text/x-python",
   "name": "python",
   "nbconvert_exporter": "python",
   "pygments_lexer": "ipython3",
   "version": "3.9.12"
  },
  "orig_nbformat": 4,
  "vscode": {
   "interpreter": {
    "hash": "013403e7ebf8f35ee0411721c7e4b108aa3c3f8cb903b89610d110413a68ec3f"
   }
  }
 },
 "nbformat": 4,
 "nbformat_minor": 2
}
